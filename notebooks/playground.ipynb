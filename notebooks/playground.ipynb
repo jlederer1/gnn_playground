{
 "cells": [
  {
   "cell_type": "markdown",
   "id": "95f38faa",
   "metadata": {},
   "source": [
    "# Welcome to the GNN-Playground! \n",
    "\n",
    "This interactive notebook lets you explore Graph Neural Networks (GNNs) on tiny, cpu-friendly datasets.\n",
    "\n",
    "---\n",
    "\n",
    "**What you can explore:**\n",
    "1. **Configure** your experiment using interactive widgets. \n",
    "2. **Run** the training loop to see live updating loss and accuracy plots. \n",
    "3. **Compare** previous and current configurations side-by-side and inspect final metrics.\n",
    "4. **Generate** your __official__ GNN training certificate, to summarize all your training runs, honoring your final models and experiences you gained! \n",
    "5. **Share** your certificates in our Discussion Section on GitHub to get registered on our Playground Leaderboard!\n",
    "\n",
    "---\n",
    "\n",
    "Are you ready? Then **Set up your model** and hit `Run All` to get started!"
   ]
  },
  {
   "cell_type": "code",
   "execution_count": null,
   "id": "1264f6d9",
   "metadata": {
    "vscode": {
     "languageId": "plaintext"
    }
   },
   "outputs": [],
   "source": [
    "# def ..."
   ]
  }
 ],
 "metadata": {
  "language_info": {
   "name": "python"
  }
 },
 "nbformat": 4,
 "nbformat_minor": 5
}
